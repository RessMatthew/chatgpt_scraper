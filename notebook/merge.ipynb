{
 "cells": [
  {
   "cell_type": "markdown",
   "metadata": {},
   "source": [
    "../result/目录下有多个csv，\n",
    "每个csv有两行：\n",
    "一行表头：修改后的问题 扩展场景 重写描述 增强模型\n",
    "一行对应的数据\n",
    "文件名为序号\n",
    "\n",
    "需求：合并csv，并在开头添加一列序号，序号为各个csv的文件名（不含前缀）"
   ]
  },
  {
   "cell_type": "code",
   "execution_count": 2,
   "metadata": {},
   "outputs": [],
   "source": [
    "import pandas as pd\n",
    "import os\n",
    "\n",
    "# 定义 CSV 文件所在目录\n",
    "directory = '../result/'\n",
    "\n",
    "# 初始化一个空的 DataFrame 用于存储合并后的数据\n",
    "combined_df = pd.DataFrame()\n",
    "\n",
    "# 遍历目录中的每个文件\n",
    "for filename in os.listdir(directory):\n",
    "    if filename.endswith('.csv'):\n",
    "        # 获取文件的完整路径\n",
    "        file_path = os.path.join(directory, filename)\n",
    "        \n",
    "        # 读取 CSV 文件\n",
    "        df = pd.read_csv(file_path)\n",
    "        \n",
    "        # 提取文件名作为序号（去掉文件扩展名）\n",
    "        sequence_number = os.path.splitext(filename)[0]\n",
    "        \n",
    "        # 在 DataFrame 中添加一列序号\n",
    "        df.insert(0, '序号', sequence_number)\n",
    "        \n",
    "        # 将当前 DataFrame 追加到合并的 DataFrame 中\n",
    "        combined_df = pd.concat([combined_df, df], ignore_index=True)\n",
    "\n",
    "# 将合并后的 DataFrame 保存为新的 CSV 文件\n",
    "combined_df.to_excel('../result/combined.xlsx', index=False)"
   ]
  }
 ],
 "metadata": {
  "kernelspec": {
   "display_name": "gpt",
   "language": "python",
   "name": "python3"
  },
  "language_info": {
   "codemirror_mode": {
    "name": "ipython",
    "version": 3
   },
   "file_extension": ".py",
   "mimetype": "text/x-python",
   "name": "python",
   "nbconvert_exporter": "python",
   "pygments_lexer": "ipython3",
   "version": "3.12.7"
  }
 },
 "nbformat": 4,
 "nbformat_minor": 2
}
